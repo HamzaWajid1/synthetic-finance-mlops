{
 "cells": [
  {
   "cell_type": "code",
   "execution_count": 1,
   "id": "10b1f435",
   "metadata": {},
   "outputs": [
    {
     "name": "stdout",
     "output_type": "stream",
     "text": [
      "['C:\\\\Program Files\\\\Python311\\\\python311.zip', 'C:\\\\Program Files\\\\Python311\\\\DLLs', 'C:\\\\Program Files\\\\Python311\\\\Lib', 'C:\\\\Program Files\\\\Python311', 'c:\\\\Users\\\\hamza\\\\OneDrive\\\\Desktop\\\\InterviewPrepUSA\\\\UCSC_Extension\\\\IntroToMachineLearning\\\\synthetic-finance-mlops\\\\venv', '', 'c:\\\\Users\\\\hamza\\\\OneDrive\\\\Desktop\\\\InterviewPrepUSA\\\\UCSC_Extension\\\\IntroToMachineLearning\\\\synthetic-finance-mlops\\\\venv\\\\Lib\\\\site-packages', 'c:\\\\Users\\\\hamza\\\\OneDrive\\\\Desktop\\\\InterviewPrepUSA\\\\UCSC_Extension\\\\IntroToMachineLearning\\\\synthetic-finance-mlops\\\\venv\\\\Lib\\\\site-packages\\\\win32', 'c:\\\\Users\\\\hamza\\\\OneDrive\\\\Desktop\\\\InterviewPrepUSA\\\\UCSC_Extension\\\\IntroToMachineLearning\\\\synthetic-finance-mlops\\\\venv\\\\Lib\\\\site-packages\\\\win32\\\\lib', 'c:\\\\Users\\\\hamza\\\\OneDrive\\\\Desktop\\\\InterviewPrepUSA\\\\UCSC_Extension\\\\IntroToMachineLearning\\\\synthetic-finance-mlops\\\\venv\\\\Lib\\\\site-packages\\\\Pythonwin', 'C:\\\\Users\\\\hamza\\\\OneDrive\\\\Desktop\\\\InterviewPrepUSA\\\\UCSC_Extension\\\\IntroToMachineLearning\\\\synthetic-finance-mlops']\n"
     ]
    }
   ],
   "source": [
    "import sys\n",
    "from pathlib import Path\n",
    "\n",
    "# Dynamic project root (2 levels up if notebook is in notebooks/)\n",
    "project_root = Path().resolve().parents[0]  # adjust depending on your notebook location\n",
    "sys.path.append(str(project_root))\n",
    "\n",
    "# Confirm path is added\n",
    "print(sys.path)\n"
   ]
  },
  {
   "cell_type": "code",
   "execution_count": 2,
   "id": "63a59e2a",
   "metadata": {},
   "outputs": [],
   "source": [
    "from src.train import run_anomaly_supervised_pipeline\n",
    "from src.evaluate import evaluate_models\n"
   ]
  },
  {
   "cell_type": "code",
   "execution_count": 3,
   "id": "85e6195c",
   "metadata": {},
   "outputs": [
    {
     "name": "stdout",
     "output_type": "stream",
     "text": [
      "🔧 Computing transaction features...\n",
      "  → Amount-based features\n",
      "  → Account status features\n",
      "  → Customer demographic features\n",
      "  → Loan-related features\n",
      "  → Temporal features\n",
      "  → Anomaly detection flags\n",
      "✅ Feature engineering completed!\n",
      "✅ Preprocessing complete. Data ready for model prep.\n",
      "✅ Model data prepared (scaled).\n",
      "\n",
      "🔹 Training Logistic Regression...\n"
     ]
    },
    {
     "name": "stderr",
     "output_type": "stream",
     "text": [
      "c:\\Users\\hamza\\OneDrive\\Desktop\\InterviewPrepUSA\\UCSC_Extension\\IntroToMachineLearning\\synthetic-finance-mlops\\venv\\Lib\\site-packages\\sklearn\\linear_model\\_logistic.py:473: ConvergenceWarning: lbfgs failed to converge after 5000 iteration(s) (status=1):\n",
      "STOP: TOTAL NO. OF ITERATIONS REACHED LIMIT\n",
      "\n",
      "Increase the number of iterations to improve the convergence (max_iter=5000).\n",
      "You might also want to scale the data as shown in:\n",
      "    https://scikit-learn.org/stable/modules/preprocessing.html\n",
      "Please also refer to the documentation for alternative solver options:\n",
      "    https://scikit-learn.org/stable/modules/linear_model.html#logistic-regression\n",
      "  n_iter_i = _check_optimize_result(\n"
     ]
    },
    {
     "name": "stdout",
     "output_type": "stream",
     "text": [
      "\n",
      "🔹 Training Random Forest...\n",
      "\n",
      "🔹 Training XGBoost...\n"
     ]
    },
    {
     "name": "stderr",
     "output_type": "stream",
     "text": [
      "c:\\Users\\hamza\\OneDrive\\Desktop\\InterviewPrepUSA\\UCSC_Extension\\IntroToMachineLearning\\synthetic-finance-mlops\\venv\\Lib\\site-packages\\xgboost\\training.py:183: UserWarning: [14:51:05] WARNING: C:\\actions-runner\\_work\\xgboost\\xgboost\\src\\learner.cc:738: \n",
      "Parameters: { \"use_label_encoder\" } are not used.\n",
      "\n",
      "  bst.update(dtrain, iteration=i, fobj=obj)\n"
     ]
    }
   ],
   "source": [
    "path=r'C:\\Users\\hamza\\OneDrive\\Desktop\\InterviewPrepUSA\\UCSC_Extension\\IntroToMachineLearning\\synthetic-finance-mlops\\data\\raw'\n",
    "models,xt,yt=run_anomaly_supervised_pipeline(path)\n",
    "\n"
   ]
  },
  {
   "cell_type": "code",
   "execution_count": 4,
   "id": "f89d9b48",
   "metadata": {},
   "outputs": [],
   "source": [
    "results=evaluate_models(models,xt,yt)"
   ]
  },
  {
   "cell_type": "code",
   "execution_count": 5,
   "id": "ee8d2fad",
   "metadata": {},
   "outputs": [
    {
     "data": {
      "text/html": [
       "<div>\n",
       "<style scoped>\n",
       "    .dataframe tbody tr th:only-of-type {\n",
       "        vertical-align: middle;\n",
       "    }\n",
       "\n",
       "    .dataframe tbody tr th {\n",
       "        vertical-align: top;\n",
       "    }\n",
       "\n",
       "    .dataframe thead th {\n",
       "        text-align: right;\n",
       "    }\n",
       "</style>\n",
       "<table border=\"1\" class=\"dataframe\">\n",
       "  <thead>\n",
       "    <tr style=\"text-align: right;\">\n",
       "      <th></th>\n",
       "      <th>ROC-AUC</th>\n",
       "      <th>PR-AUC</th>\n",
       "      <th>Precision</th>\n",
       "      <th>Recall</th>\n",
       "      <th>Accuracy</th>\n",
       "      <th>Balanced Accuracy</th>\n",
       "      <th>Confusion Matrix</th>\n",
       "      <th>Classification Report</th>\n",
       "    </tr>\n",
       "    <tr>\n",
       "      <th>model</th>\n",
       "      <th></th>\n",
       "      <th></th>\n",
       "      <th></th>\n",
       "      <th></th>\n",
       "      <th></th>\n",
       "      <th></th>\n",
       "      <th></th>\n",
       "      <th></th>\n",
       "    </tr>\n",
       "  </thead>\n",
       "  <tbody>\n",
       "    <tr>\n",
       "      <th>Logistic Regression</th>\n",
       "      <td>0.854235</td>\n",
       "      <td>0.368045</td>\n",
       "      <td>0.103618</td>\n",
       "      <td>0.750000</td>\n",
       "      <td>0.7736</td>\n",
       "      <td>0.762210</td>\n",
       "      <td>[[7484, 2180], [84, 252]]</td>\n",
       "      <td>precision    recall  f1-score   ...</td>\n",
       "    </tr>\n",
       "    <tr>\n",
       "      <th>Random Forest</th>\n",
       "      <td>0.984736</td>\n",
       "      <td>0.754064</td>\n",
       "      <td>0.890411</td>\n",
       "      <td>0.386905</td>\n",
       "      <td>0.9778</td>\n",
       "      <td>0.692625</td>\n",
       "      <td>[[9648, 16], [206, 130]]</td>\n",
       "      <td>precision    recall  f1-score   ...</td>\n",
       "    </tr>\n",
       "    <tr>\n",
       "      <th>XGBoost</th>\n",
       "      <td>0.986843</td>\n",
       "      <td>0.798333</td>\n",
       "      <td>0.621381</td>\n",
       "      <td>0.830357</td>\n",
       "      <td>0.9773</td>\n",
       "      <td>0.906383</td>\n",
       "      <td>[[9494, 170], [57, 279]]</td>\n",
       "      <td>precision    recall  f1-score   ...</td>\n",
       "    </tr>\n",
       "  </tbody>\n",
       "</table>\n",
       "</div>"
      ],
      "text/plain": [
       "                      ROC-AUC    PR-AUC  Precision    Recall  Accuracy  \\\n",
       "model                                                                    \n",
       "Logistic Regression  0.854235  0.368045   0.103618  0.750000    0.7736   \n",
       "Random Forest        0.984736  0.754064   0.890411  0.386905    0.9778   \n",
       "XGBoost              0.986843  0.798333   0.621381  0.830357    0.9773   \n",
       "\n",
       "                     Balanced Accuracy           Confusion Matrix  \\\n",
       "model                                                               \n",
       "Logistic Regression           0.762210  [[7484, 2180], [84, 252]]   \n",
       "Random Forest                 0.692625   [[9648, 16], [206, 130]]   \n",
       "XGBoost                       0.906383   [[9494, 170], [57, 279]]   \n",
       "\n",
       "                                                 Classification Report  \n",
       "model                                                                   \n",
       "Logistic Regression                precision    recall  f1-score   ...  \n",
       "Random Forest                      precision    recall  f1-score   ...  \n",
       "XGBoost                            precision    recall  f1-score   ...  "
      ]
     },
     "execution_count": 5,
     "metadata": {},
     "output_type": "execute_result"
    }
   ],
   "source": [
    "results.head()"
   ]
  }
 ],
 "metadata": {
  "kernelspec": {
   "display_name": "venv",
   "language": "python",
   "name": "python3"
  },
  "language_info": {
   "codemirror_mode": {
    "name": "ipython",
    "version": 3
   },
   "file_extension": ".py",
   "mimetype": "text/x-python",
   "name": "python",
   "nbconvert_exporter": "python",
   "pygments_lexer": "ipython3",
   "version": "3.11.3"
  }
 },
 "nbformat": 4,
 "nbformat_minor": 5
}
